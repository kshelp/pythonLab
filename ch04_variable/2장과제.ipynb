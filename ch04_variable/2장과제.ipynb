{
 "cells": [
  {
   "cell_type": "markdown",
   "metadata": {},
   "source": [
    "# 연습문제"
   ]
  },
  {
   "cell_type": "code",
   "execution_count": 3,
   "metadata": {},
   "outputs": [
    {
     "name": "stdout",
     "output_type": "stream",
     "text": [
      "881120\n",
      "1068234\n"
     ]
    }
   ],
   "source": [
    "# Q1 홍길동씨의 주민등록번호는 881120-1068234이다. \n",
    "# 홍길동씨의 주민등록번호를 연월일(YYYYMMDD) 부분과 \n",
    "# 그 뒤의 숫자 부분으로 나누어 출력해 보자.\n",
    "pin = '881120-1068234'\n",
    "yyyymmdd = pin[:6]\n",
    "num = pin[7:]\n",
    "print(yyyymmdd)\n",
    "print(num)\n",
    "# 결과값\n",
    "# 881120\n",
    "# 1068234"
   ]
  },
  {
   "cell_type": "code",
   "execution_count": 1,
   "metadata": {},
   "outputs": [
    {
     "name": "stdout",
     "output_type": "stream",
     "text": [
      "1\n"
     ]
    }
   ],
   "source": [
    "# Q2 주민등록번호 뒷자리의 맨 첫 번째 숫자는 성별을 나타낸다. \n",
    "# 주민등록번호에서 성별을 나타내는 숫자를 출력해 보자.\n",
    "# Q4\n",
    "pin = \"881120-1068234\"\n",
    "print(pin[7])\n",
    "# 결과값\n",
    "# 1"
   ]
  },
  {
   "cell_type": "code",
   "execution_count": 2,
   "metadata": {},
   "outputs": [
    {
     "name": "stdout",
     "output_type": "stream",
     "text": [
      "[5, 4, 3, 2, 1]\n"
     ]
    }
   ],
   "source": [
    "# Q3 [1,3,5,4,2]라는 리스트를 [5,4,3,2,1]로 만들어 보자.\n",
    "a = [1,3,5,4,2]\n",
    "a.sort()\n",
    "a.reverse()\n",
    "print(a)"
   ]
  },
  {
   "cell_type": "code",
   "execution_count": 4,
   "metadata": {},
   "outputs": [
    {
     "name": "stdout",
     "output_type": "stream",
     "text": [
      "Life is too short\n",
      "<class 'str'>\n"
     ]
    }
   ],
   "source": [
    "# Q4 ['Life','is','too','short']라는 리스트를 Life is too short라는 문자열로 \n",
    "# 만들어 출력해 보자.\n",
    "a = ['Life','is','too','short']\n",
    "result = \" \".join(a)\n",
    "print(result)\n",
    "print(type(result))\n",
    "# 결과값\n",
    "# Life is too short"
   ]
  },
  {
   "cell_type": "code",
   "execution_count": 5,
   "metadata": {},
   "outputs": [
    {
     "name": "stdout",
     "output_type": "stream",
     "text": [
      "(1, 2, 3, 4)\n"
     ]
    }
   ],
   "source": [
    "# Q5 (1, 2, 3) 튜플에 값 4를 추가하여 (1, 2, 3, 4)를 만들어 출력해 보자.\n",
    "a = (1, 2, 3)\n",
    "a = a + (4,)\n",
    "print(a) # (1, 2, 3, 4)"
   ]
  },
  {
   "cell_type": "code",
   "execution_count": 6,
   "metadata": {},
   "outputs": [
    {
     "name": "stdout",
     "output_type": "stream",
     "text": [
      "{'A': 90, 'C': 70}\n",
      "80\n"
     ]
    }
   ],
   "source": [
    "# Q7 딕셔너리 a에서 'B'에 해당되는 값을 추출해 보자.\n",
    "a = {'A':90, 'B':80, 'C':70}\n",
    "result = a.pop('B')\n",
    "print(a) # {'A':90, 'C':70}\n",
    "print(result) # 80 출력"
   ]
  },
  {
   "cell_type": "code",
   "execution_count": 7,
   "metadata": {},
   "outputs": [
    {
     "name": "stdout",
     "output_type": "stream",
     "text": [
      "<class 'set'>\n",
      "[1, 2, 3, 4, 5]\n"
     ]
    }
   ],
   "source": [
    "# Q8 a 리스트에서 중복 숫자를 제거해 보자.\n",
    "a = [1, 1, 1, 2, 2, 3, 3, 3, 4, 4, 5]\n",
    "aSet = set(a)  # list -> set 변환(중복불허)\n",
    "print(type(aSet))\n",
    "b = list(aSet)\n",
    "print(b) # [1, 2, 3, 4, 5] 출력"
   ]
  },
  {
   "cell_type": "code",
   "execution_count": 8,
   "metadata": {},
   "outputs": [
    {
     "name": "stdout",
     "output_type": "stream",
     "text": [
      "[1, 4, 3]\n",
      "[1, 4, 3]\n"
     ]
    }
   ],
   "source": [
    "# Q9 파이썬은 다음처럼 동일한 값에 여러 개의 변수를 선언할 수 있다. \n",
    "# 다음과 같이 a, b 변수를 선언한 후 a의 첫 번째 요소값을 변경하면 \n",
    "# b 값은 어떻게 될까? 그리고 이런 결과가 나오는 이유에 대해 설명해 보자.\n",
    "a = b = [1, 2, 3]\n",
    "a[1] = 4\n",
    "print(a)\n",
    "print(b)  # a와 b변수는 모두 동일한 리스트 객체를 참조하는 주소를 갖고 있다."
   ]
  },
  {
   "cell_type": "code",
   "execution_count": null,
   "metadata": {},
   "outputs": [],
   "source": []
  }
 ],
 "metadata": {
  "kernelspec": {
   "display_name": "Python 3",
   "language": "python",
   "name": "python3"
  },
  "language_info": {
   "codemirror_mode": {
    "name": "ipython",
    "version": 3
   },
   "file_extension": ".py",
   "mimetype": "text/x-python",
   "name": "python",
   "nbconvert_exporter": "python",
   "pygments_lexer": "ipython3",
   "version": "3.8.5"
  }
 },
 "nbformat": 4,
 "nbformat_minor": 4
}
